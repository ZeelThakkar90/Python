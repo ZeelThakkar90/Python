{
 "cells": [
  {
   "cell_type": "markdown",
   "metadata": {},
   "source": [
    "<a href='https://www.darshan.ac.in/'> <img src='https://www.darshan.ac.in/Content/media/DU_Logo.svg' width=\"250\" height=\"300\"/></a>\n",
    "<pre>\n",
    "<center><b><h1>Python Programming - 2301CS404</b></center>\n",
    "<center><b><h1>Lab - 10</b></center>    \n",
    "<pre>"
   ]
  },
  {
   "cell_type": "markdown",
   "metadata": {},
   "source": [
    "# Exception Handling"
   ]
  },
  {
   "cell_type": "markdown",
   "metadata": {},
   "source": [
    "### 01) WAP to handle following exceptions:\n",
    "1. ZeroDivisionError\n",
    "2. ValueError\n",
    "3. TypeError\n",
    "#### Note: handle them using separate except blocks and also using single except block too."
   ]
  },
  {
   "cell_type": "code",
   "execution_count": 3,
   "metadata": {},
   "outputs": [
    {
     "name": "stdout",
     "output_type": "stream",
     "text": [
      "Can Not divide by zero\n",
      "You can not take square root of a negative number!! \n",
      "Can not add \n"
     ]
    }
   ],
   "source": [
    "try:\n",
    "    a=10\n",
    "    b=0\n",
    "    ans=10/0\n",
    "except ZeroDivisionError:\n",
    "    print('Can Not divide by zero')\n",
    "    \n",
    "import math\n",
    "try:\n",
    "    print(math.sqrt(-1))\n",
    "except ValueError:\n",
    "    print('You can not take square root of a negative number!! ')\n",
    "try:\n",
    "    ans='a'+10\n",
    "    print(ans)\n",
    "except TypeError:\n",
    "    print('Can not add ')"
   ]
  },
  {
   "cell_type": "markdown",
   "metadata": {},
   "source": [
    "### 02)  WAP to handle following exceptions:\n",
    "1. IndexError\n",
    "2. KeyError"
   ]
  },
  {
   "cell_type": "code",
   "execution_count": 5,
   "metadata": {},
   "outputs": [
    {
     "name": "stdout",
     "output_type": "stream",
     "text": [
      "index is out of bound !!\n",
      "zeel\n",
      "Key doesnt exists\n"
     ]
    }
   ],
   "source": [
    "#IndexError\n",
    "try:\n",
    "    l=[11,22,33,44]\n",
    "    print(l[4])\n",
    "except IndexError:\n",
    "    print('index is out of bound !!')\n",
    "#KeyError\n",
    "try:\n",
    "    dict1={1:'zeel',2:'prem',3:'coco'}\n",
    "    print(dict1[1])\n",
    "    print(dict1[4])\n",
    "except KeyError:\n",
    "    print('Key doesnt exists')"
   ]
  },
  {
   "cell_type": "markdown",
   "metadata": {},
   "source": [
    "### 03) WAP to handle following exceptions:\n",
    "1. FileNotFoundError\n",
    "2. ModuleNotFoundError"
   ]
  },
  {
   "cell_type": "code",
   "execution_count": 9,
   "metadata": {},
   "outputs": [
    {
     "name": "stdout",
     "output_type": "stream",
     "text": [
      "File not found [Errno 2] No such file or directory: 'mytxtfile.txt'\n",
      "Module Not Found Error occured !! No module named 'Zeel_module'\n"
     ]
    }
   ],
   "source": [
    "#FileNotFoundError\n",
    "try:\n",
    "    fp=open('mytxtfile.txt','r')\n",
    "    print(fp)\n",
    "except FileNotFoundError as e:\n",
    "    print('File not found',e)\n",
    "#ModuleNotFoundError\n",
    "try:\n",
    "    import Zeel_module\n",
    "except ModuleNotFoundError as e:\n",
    "    print('Module Not Found Error occured !!',e)"
   ]
  },
  {
   "cell_type": "markdown",
   "metadata": {},
   "source": [
    "### 04) WAP that catches all type of exceptions in a single except block."
   ]
  },
  {
   "cell_type": "code",
   "execution_count": 11,
   "metadata": {},
   "outputs": [
    {
     "name": "stdout",
     "output_type": "stream",
     "text": [
      "Something went wrong\n"
     ]
    }
   ],
   "source": [
    "try:\n",
    "    a=10/0\n",
    "    print(a)\n",
    "except:\n",
    "    print('Something went wrong')"
   ]
  },
  {
   "cell_type": "markdown",
   "metadata": {},
   "source": [
    "### 05) WAP to demonstrate else  and finally block."
   ]
  },
  {
   "cell_type": "code",
   "execution_count": 13,
   "metadata": {},
   "outputs": [
    {
     "name": "stdout",
     "output_type": "stream",
     "text": [
      "5.0\n",
      "2.0\n",
      "finally block here\n"
     ]
    }
   ],
   "source": [
    "try:\n",
    "    a=10/2\n",
    "    print(a)\n",
    "except ZeroDivisionError as e:\n",
    "    print('error occured!!',e)\n",
    "else:\n",
    "    a=10/5\n",
    "    print(a)\n",
    "finally:\n",
    "    print('finally block here')"
   ]
  },
  {
   "cell_type": "markdown",
   "metadata": {},
   "source": [
    "### 06) Create a short program that prompts the user for a list of grades separated by commas. \n",
    "### Split the string into individual grades and use a list comprehension to convert each string to an integer. \n",
    "### You should use a try statement to inform the user when the values they entered cannot be converted."
   ]
  },
  {
   "cell_type": "code",
   "execution_count": 17,
   "metadata": {},
   "outputs": [
    {
     "name": "stdin",
     "output_type": "stream",
     "text": [
      "Enter grades separated by commas:  12,34,56 78 90\n"
     ]
    },
    {
     "name": "stdout",
     "output_type": "stream",
     "text": [
      "Invalid input. Please enter only numbers separated by commas.\n"
     ]
    }
   ],
   "source": [
    "grades_input = input(\"Enter grades separated by commas: \")\n",
    "try:\n",
    "    grades = [int(grade.strip()) for grade in grades_input.split(',')]\n",
    "    print(\"Grades entered:\", grades)\n",
    "except ValueError:\n",
    "    print(\"Invalid input. Please enter only numbers separated by commas.\")"
   ]
  },
  {
   "cell_type": "markdown",
   "metadata": {},
   "source": [
    "### 07) WAP to create an udf divide(a,b) that handles ZeroDivisionError."
   ]
  },
  {
   "cell_type": "code",
   "execution_count": 19,
   "metadata": {},
   "outputs": [
    {
     "name": "stdout",
     "output_type": "stream",
     "text": [
      "Exception raise!! division by zero\n"
     ]
    }
   ],
   "source": [
    "def divide(a,b):\n",
    "    try:\n",
    "        print(a/b)\n",
    "    except ZeroDivisionError as e:\n",
    "        print('Exception raise!!',e)\n",
    "divide(10,0)"
   ]
  },
  {
   "cell_type": "markdown",
   "metadata": {},
   "source": [
    "### 08) WAP that gets an age of a person form the user and raises ValueError with error message: \"Enter Valid Age\" :\n",
    "#### If the age is less than 18. \n",
    "#### otherwise print the age."
   ]
  },
  {
   "cell_type": "code",
   "execution_count": 21,
   "metadata": {},
   "outputs": [
    {
     "name": "stdin",
     "output_type": "stream",
     "text": [
      "enter age 12\n"
     ]
    },
    {
     "name": "stdout",
     "output_type": "stream",
     "text": [
      "Invalid age\n"
     ]
    }
   ],
   "source": [
    "def get_age():\n",
    "    try:\n",
    "        a=int(input('enter age'))\n",
    "        if a<18:\n",
    "            raise ValueError('Invalid age')\n",
    "        print(a)\n",
    "    except ValueError as e:\n",
    "        print(e)\n",
    "get_age()"
   ]
  },
  {
   "cell_type": "markdown",
   "metadata": {},
   "source": [
    "### 09) WAP to raise your custom Exception named InvalidUsernameError with the error message : \"Username must be between 5 and 15 characters long\":\n",
    "#### if the given name is having characters less than 5 or greater than 15.\n",
    "#### otherwise print the given username."
   ]
  },
  {
   "cell_type": "code",
   "execution_count": 23,
   "metadata": {},
   "outputs": [
    {
     "name": "stdin",
     "output_type": "stream",
     "text": [
      "Enter UserName: red\n"
     ]
    },
    {
     "name": "stdout",
     "output_type": "stream",
     "text": [
      "Username must be between 5 and 15 characters long\n"
     ]
    }
   ],
   "source": [
    "class InvalidUsernameError(Exception):\n",
    "    def __init__(self,msg):\n",
    "        self.msg=msg\n",
    "try:\n",
    "    user_name=input('Enter UserName:')\n",
    "    if len(user_name)<5 or len(user_name)>15:\n",
    "        raise InvalidUsernameError(\"Username must be between 5 and 15 characters long\")\n",
    "    print(user_name)\n",
    "except InvalidUsernameError as e:\n",
    "    print(e)"
   ]
  },
  {
   "cell_type": "markdown",
   "metadata": {},
   "source": [
    "### 10) WAP to raise your custom Exception named NegativeNumberError with the error message : \"Cannot calculate the square root of a negative number\" :\n",
    "#### if the given number is negative.\n",
    "#### otherwise print the square root of the given number."
   ]
  },
  {
   "cell_type": "code",
   "execution_count": 25,
   "metadata": {},
   "outputs": [
    {
     "name": "stdin",
     "output_type": "stream",
     "text": [
      "Enter number -9\n"
     ]
    },
    {
     "name": "stdout",
     "output_type": "stream",
     "text": [
      "Cannot calculate the square root of a negative number\n"
     ]
    }
   ],
   "source": [
    "class NegativeNumberError(Exception):\n",
    "    def __int__(self,msg):\n",
    "        self.msg=msg\n",
    "import math\n",
    "try:\n",
    "    number=int(input('Enter number'))\n",
    "    if number<0:\n",
    "        raise NegativeNumberError('Cannot calculate the square root of a negative number')\n",
    "    print(math.sqrt(number))\n",
    "except NegativeNumberError as e:\n",
    "    print(e)\n"
   ]
  },
  {
   "cell_type": "code",
   "execution_count": null,
   "metadata": {},
   "outputs": [],
   "source": []
  }
 ],
 "metadata": {
  "kernelspec": {
   "display_name": "Python 3 (ipykernel)",
   "language": "python",
   "name": "python3"
  },
  "language_info": {
   "codemirror_mode": {
    "name": "ipython",
    "version": 3
   },
   "file_extension": ".py",
   "mimetype": "text/x-python",
   "name": "python",
   "nbconvert_exporter": "python",
   "pygments_lexer": "ipython3",
   "version": "3.12.7"
  }
 },
 "nbformat": 4,
 "nbformat_minor": 4
}
