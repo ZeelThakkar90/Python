{
 "cells": [
  {
   "attachments": {},
   "cell_type": "markdown",
   "metadata": {},
   "source": [
    "<a href='https://www.darshan.ac.in/'> <img src='https://www.darshan.ac.in/Content/media/DU_Logo.svg' width=\"250\" height=\"300\"/></a>\n",
    "<pre>\n",
    "<center><b><h1>Python Programming - 2301CS404</b></center>\n",
    "<center><b><h1>Lab - 11</b></center>    \n",
    "<pre>"
   ]
  },
  {
   "cell_type": "markdown",
   "metadata": {},
   "source": [
    "# Modules"
   ]
  },
  {
   "cell_type": "markdown",
   "metadata": {},
   "source": [
    "### 01) WAP to create Calculator module which defines functions like add, sub,mul and div. \n",
    "### Create another .py file that uses the functions available in Calculator module."
   ]
  },
  {
   "cell_type": "code",
   "execution_count": 1,
   "metadata": {},
   "outputs": [
    {
     "name": "stdout",
     "output_type": "stream",
     "text": [
      "Writing calculator.py\n"
     ]
    }
   ],
   "source": [
    "%%writefile calculator.py\n",
    "\n",
    "def add(a, b):\n",
    "    return a + b\n",
    "def sub(a, b):\n",
    "    return a - b\n",
    "def mul(a, b):\n",
    "    return a * b\n",
    "def div(a, b):\n",
    "    if b == 0:\n",
    "        return \"Error! Division by zero.\"\n",
    "    return a / b\n",
    "    \n",
    "Overwriting calculator.py\n",
    "import calculator\n",
    "\n",
    "a = float(input(\"Enter first number: \"))\n",
    "b = float(input(\"Enter second number: \"))\n",
    "\n",
    "print(f\"Addition: {calculator.add(a, b)}\")\n",
    "print(f\"Subtraction: {calculator.sub(a, b)}\")\n",
    "print(f\"Multiplication: {calculator.mul(a, b)}\")\n",
    "print(f\"Division: {calculator.div(a, b)}\")"
   ]
  },
  {
   "cell_type": "markdown",
   "metadata": {},
   "source": [
    "### 02) WAP to pick a random character from a given String."
   ]
  },
  {
   "cell_type": "code",
   "execution_count": 5,
   "metadata": {},
   "outputs": [
    {
     "name": "stdout",
     "output_type": "stream",
     "text": [
      "Overwriting random_char.py\n"
     ]
    }
   ],
   "source": [
    "%%writefile random_char.py\n",
    "import random\n",
    "\n",
    "def pick_random_character(s):\n",
    "    if not s:\n",
    "        return \"Error! String is empty.\"\n",
    "    return random.choice(s)\n",
    "Overwriting random_char.py\n",
    "import random_char\n",
    "string = input(\"Enter a string: \")\n",
    "print(f\"Random character:\n",
    "{random_char.pick_random_character(string)}\")"
   ]
  },
  {
   "cell_type": "markdown",
   "metadata": {},
   "source": [
    "### 03) WAP to pick a random element from a given list."
   ]
  },
  {
   "cell_type": "code",
   "execution_count": 7,
   "metadata": {},
   "outputs": [
    {
     "name": "stdout",
     "output_type": "stream",
     "text": [
      "Writing random_element.py\n"
     ]
    }
   ],
   "source": [
    "%%writefile random_element.py\n",
    "\n",
    "import random\n",
    "\n",
    "def pick_random_element(lst):\n",
    "    if not lst:\n",
    "        return \"Error! List is empty.\"\n",
    "    return random.choice(lst)\n",
    "Overwriting random_element.py\n",
    "import random_element\n",
    "my_list = input(\"Enter list elements separated by spaces: \").split()\n",
    "print(f\"Random element:\n",
    "{random_element.pick_random_element(my_list)}\")"
   ]
  },
  {
   "cell_type": "markdown",
   "metadata": {},
   "source": [
    "### 04) WAP to roll a dice in such a way that every time you get the same number."
   ]
  },
  {
   "cell_type": "code",
   "execution_count": 9,
   "metadata": {},
   "outputs": [
    {
     "name": "stdout",
     "output_type": "stream",
     "text": [
      "Writing fixed_dice.py\n"
     ]
    }
   ],
   "source": [
    "%%writefile fixed_dice.py\n",
    "def roll_dice():\n",
    "    return 1\n",
    "Overwriting fixed_dice.py\n",
    "import fixed_dice\n",
    "print(f\"Rolled Dice: {fixed_dice.roll_dice()}\")"
   ]
  },
  {
   "cell_type": "markdown",
   "metadata": {},
   "source": [
    "### 05) WAP to generate 3 random integers between 100 and 999 which is divisible by 5."
   ]
  },
  {
   "cell_type": "code",
   "execution_count": 11,
   "metadata": {},
   "outputs": [
    {
     "name": "stdout",
     "output_type": "stream",
     "text": [
      "Random numbers divisible by 5: [825, 205, 595]\n"
     ]
    }
   ],
   "source": [
    "import random\n",
    "def generate_random_numbers():\n",
    "    numbers = random.sample(range(100, 1000, 5), 3)\n",
    "    return numbers\n",
    "print(\"Random numbers divisible by 5:\", generate_random_numbers())"
   ]
  },
  {
   "cell_type": "markdown",
   "metadata": {},
   "source": [
    "### 06) WAP to generate 100 random lottery tickets and pick two lucky tickets from it and announce them as Winner and Runner up respectively."
   ]
  },
  {
   "cell_type": "code",
   "execution_count": 13,
   "metadata": {},
   "outputs": [
    {
     "name": "stdout",
     "output_type": "stream",
     "text": [
      "Lottery Results :\n",
      " Winner Ticket: 338026\n",
      " Runner-up Ticket: 391148\n"
     ]
    }
   ],
   "source": [
    "import random\n",
    "def generate_lottery_tickets():\n",
    "    tickets = random.sample(range(100000, 999999), 100)\n",
    "    return tickets\n",
    "def pick_winners(tickets):\n",
    "    winners = random.sample(tickets, 2)\n",
    "    return winners[0], winners[1]\n",
    "lottery_tickets = generate_lottery_tickets()\n",
    "winner, runner_up = pick_winners(lottery_tickets)\n",
    "print(\"Lottery Results :\")\n",
    "print(f\" Winner Ticket: {winner}\")\n",
    "print(f\" Runner-up Ticket: {runner_up}\")"
   ]
  },
  {
   "cell_type": "markdown",
   "metadata": {},
   "source": [
    "### 07) WAP to print current date and time in Python."
   ]
  },
  {
   "cell_type": "code",
   "execution_count": 15,
   "metadata": {},
   "outputs": [
    {
     "name": "stdout",
     "output_type": "stream",
     "text": [
      "Current Date and Time: 2025-05-23 13:12:40.326182\n"
     ]
    }
   ],
   "source": [
    "from datetime import datetime\n",
    "current_datetime = datetime.now()\n",
    "print(\"Current Date and Time:\", current_datetime)"
   ]
  },
  {
   "cell_type": "markdown",
   "metadata": {},
   "source": [
    "### 08) Subtract a week (7 days) from a given date in Python."
   ]
  },
  {
   "cell_type": "code",
   "execution_count": 17,
   "metadata": {},
   "outputs": [
    {
     "name": "stdout",
     "output_type": "stream",
     "text": [
      "New Date: 2025-02-11 00:00:00\n"
     ]
    }
   ],
   "source": [
    "from datetime import datetime, timedelta\n",
    "given_date = datetime(2025, 2, 18)\n",
    "new_date = given_date - timedelta(days=7)\n",
    "print(\"New Date:\", new_date)"
   ]
  },
  {
   "cell_type": "markdown",
   "metadata": {},
   "source": [
    "### 09) WAP to Calculate number of days between two given dates."
   ]
  },
  {
   "cell_type": "code",
   "execution_count": 19,
   "metadata": {},
   "outputs": [
    {
     "name": "stdout",
     "output_type": "stream",
     "text": [
      "Number of days between the dates: 17\n"
     ]
    }
   ],
   "source": [
    "from datetime import datetime\n",
    "date1 = datetime(2025, 2, 1)\n",
    "date2 = datetime(2025, 2, 18)\n",
    "difference = (date2 - date1).days\n",
    "print(\"Number of days between the dates:\", difference)"
   ]
  },
  {
   "cell_type": "markdown",
   "metadata": {},
   "source": [
    "### 10) WAP to Find the day of the week of a given date.(i.e. wether it is sunday/monday/tuesday/etc.)"
   ]
  },
  {
   "cell_type": "code",
   "execution_count": 21,
   "metadata": {},
   "outputs": [
    {
     "name": "stdout",
     "output_type": "stream",
     "text": [
      "Day of the week: Tue\n"
     ]
    }
   ],
   "source": [
    "from datetime import datetime\n",
    "given_date = datetime(2025, 2, 18)\n",
    "day_of_week = given_date.strftime(\"%a\")\n",
    "print(\"Day of the week:\", day_of_week)"
   ]
  },
  {
   "cell_type": "markdown",
   "metadata": {},
   "source": [
    "### 11) WAP to demonstrate the use of date time module."
   ]
  },
  {
   "cell_type": "code",
   "execution_count": 23,
   "metadata": {},
   "outputs": [
    {
     "name": "stdout",
     "output_type": "stream",
     "text": [
      "Current Date and Time: 2025-05-23 13:14:05.586670\n",
      "Formatted Date and Time: 2025-05-23 13:14:05\n",
      "Days between the two dates: 48\n",
      "New Date after adding 10 days: 2025-06-02 13:14:05.586670\n",
      "New Date after subtracting 7 days: 2025-05-16 13:14:05.586670\n",
      "Day of the week: Friday\n"
     ]
    }
   ],
   "source": [
    "from datetime import datetime, timedelta\n",
    "\n",
    "current_datetime = datetime.now()\n",
    "print(\"Current Date and Time:\", current_datetime)\n",
    "\n",
    "formatted_datetime = current_datetime.strftime(\"%Y-%m-%d %H:%M:%S\")\n",
    "print(\"Formatted Date and Time:\", formatted_datetime)\n",
    "\n",
    "date1 = datetime(2025, 1, 1)\n",
    "date2 = datetime(2025, 2, 18)\n",
    "\n",
    "days_difference = (date2 - date1).days\n",
    "print(\"Days between the two dates:\", days_difference)\n",
    "\n",
    "new_date = current_datetime + timedelta(days=10)\n",
    "print(\"New Date after adding 10 days:\", new_date)\n",
    "\n",
    "new_date_subtracted = current_datetime - timedelta(days=7)\n",
    "print(\"New Date after subtracting 7 days:\", new_date_subtracted)\n",
    "\n",
    "day_of_week = current_datetime.strftime(\"%A\")\n",
    "print(\"Day of the week:\", day_of_week)"
   ]
  },
  {
   "cell_type": "markdown",
   "metadata": {},
   "source": [
    "### 12) WAP to demonstrate the use of the math module."
   ]
  },
  {
   "cell_type": "code",
   "execution_count": 25,
   "metadata": {},
   "outputs": [
    {
     "name": "stdout",
     "output_type": "stream",
     "text": [
      "Square root of 16: 4.0\n",
      "Factorial of 5: 120\n",
      "2 raised to the power 3: 8.0\n",
      "Value of Pi: 3.141592653589793\n",
      "Rounded value of 3.14159: 3\n",
      "Sine of 30 degrees: 0.49999999999999994\n",
      "Cosine of 30 degrees: 0.8660254037844387\n",
      "Tangent of 30 degrees: 0.5773502691896256\n",
      "GCD of 56 and 98: 3\n"
     ]
    }
   ],
   "source": [
    "import math\n",
    "\n",
    "number = 16\n",
    "\n",
    "sqrt_value = math.sqrt(number)\n",
    "print(f\"Square root of {number}:\", sqrt_value)\n",
    "\n",
    "factorial_value = math.factorial(5)\n",
    "print(\"Factorial of 5:\", factorial_value)\n",
    "\n",
    "power_value = math.pow(2, 3)\n",
    "print(\"2 raised to the power 3:\", power_value)\n",
    "\n",
    "pi_value = math.pi\n",
    "print(\"Value of Pi:\", pi_value)\n",
    "\n",
    "rounded_value = round(3.14159)\n",
    "print(\"Rounded value of 3.14159:\", rounded_value)\n",
    "\n",
    "angle_in_radians = math.radians(30)\n",
    "\n",
    "sine_value = math.sin(angle_in_radians)\n",
    "cosine_value = math.cos(angle_in_radians)\n",
    "tangent_value = math.tan(angle_in_radians)\n",
    "\n",
    "print(f\"Sine of 30 degrees: {sine_value}\")\n",
    "print(f\"Cosine of 30 degrees: {cosine_value}\")\n",
    "print(f\"Tangent of 30 degrees: {tangent_value}\")\n",
    "\n",
    "gcd_value = math.gcd(3, 15)\n",
    "print(\"GCD of 56 and 98:\", gcd_value)"
   ]
  },
  {
   "cell_type": "code",
   "execution_count": null,
   "metadata": {},
   "outputs": [],
   "source": []
  }
 ],
 "metadata": {
  "kernelspec": {
   "display_name": "Python 3 (ipykernel)",
   "language": "python",
   "name": "python3"
  },
  "language_info": {
   "codemirror_mode": {
    "name": "ipython",
    "version": 3
   },
   "file_extension": ".py",
   "mimetype": "text/x-python",
   "name": "python",
   "nbconvert_exporter": "python",
   "pygments_lexer": "ipython3",
   "version": "3.12.7"
  }
 },
 "nbformat": 4,
 "nbformat_minor": 4
}
