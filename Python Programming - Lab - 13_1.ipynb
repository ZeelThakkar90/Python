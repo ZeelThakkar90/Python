{
 "cells": [
  {
   "cell_type": "markdown",
   "metadata": {},
   "source": [
    "<a href='https://www.darshan.ac.in/'> <img src='https://www.darshan.ac.in/Content/media/DU_Logo.svg' width=\"250\" height=\"300\"/></a>\n",
    "<pre>\n",
    "<center><b><h1>Python Programming - 2301CS404</b></center>\n",
    "<center><b><h1>Lab - 13</b></center>    \n",
    "<pre>"
   ]
  },
  {
   "cell_type": "markdown",
   "metadata": {},
   "source": [
    "# OOP"
   ]
  },
  {
   "cell_type": "markdown",
   "metadata": {},
   "source": [
    "### 01) Write a Program to create a class by name Students, and initialize attributes like name, age, and grade while creating an object."
   ]
  },
  {
   "cell_type": "code",
   "execution_count": 1,
   "metadata": {},
   "outputs": [
    {
     "name": "stdout",
     "output_type": "stream",
     "text": [
      "name:Zeel\n",
      "age:19\n",
      "grade:A++\n"
     ]
    }
   ],
   "source": [
    "class Students:\n",
    "    def __init__(self,name,age,grade):\n",
    "        self.name=name\n",
    "        self.age=age\n",
    "        self.grade=grade\n",
    "        \n",
    "    def display_info(self):\n",
    "        print(f\"name:{self.name}\")\n",
    "        print(f\"age:{self.age}\")\n",
    "        print(f\"grade:{self.grade}\")\n",
    "        \n",
    "student1 =Students(\"Zeel\",19,\"A++\")\n",
    "student1.display_info()"
   ]
  },
  {
   "cell_type": "markdown",
   "metadata": {},
   "source": [
    "### 02) Create a class named Bank_Account with Account_No, User_Name, Email,Account_Type and Account_Balance data members. Also create a method GetAccountDetails() and DisplayAccountDetails(). Create main method to demonstrate the Bank_Account class."
   ]
  },
  {
   "cell_type": "code",
   "execution_count": 3,
   "metadata": {},
   "outputs": [
    {
     "name": "stdin",
     "output_type": "stream",
     "text": [
      "Enter acc no: 236493569483q087\n",
      "enter user name: hcfngihfbk\n",
      "Enter email : cfkrngj\n",
      "enter account type ekcfjmrouhg\n",
      "enter account balance : fcrjogi\n"
     ]
    },
    {
     "name": "stdout",
     "output_type": "stream",
     "text": [
      "\n",
      "Account Details:\n",
      "Account Number: 236493569483q087\n",
      "User Name: hcfngihfbk\n",
      "Email: cfkrngj\n",
      "Account Type: ekcfjmrouhg\n",
      "Account Balance: fcrjogi\n"
     ]
    }
   ],
   "source": [
    "class Bank_Account:\n",
    "    def GetAccountDetails(self):\n",
    "        self.accountNo=input(\"Enter acc no:\")\n",
    "        self.userName=input(\"enter user name:\")\n",
    "        self.email=input(\"Enter email :\")\n",
    "        self.accountType=input(\"enter account type\")\n",
    "        self.accountBalance=input(\"enter account balance :\")\n",
    "    def DisplayAccountDetails(self):\n",
    "        print(\"\\nAccount Details:\")\n",
    "        print(f\"Account Number: {self.accountNo}\")\n",
    "        print(f\"User Name: {self.userName}\")\n",
    "        print(f\"Email: {self.email}\")\n",
    "        print(f\"Account Type: {self.accountType}\")\n",
    "        print(f\"Account Balance: {self.accountBalance:}\")\n",
    "        \n",
    "User1= Bank_Account()\n",
    "\n",
    "User1.GetAccountDetails()\n",
    "User1.DisplayAccountDetails()"
   ]
  },
  {
   "cell_type": "markdown",
   "metadata": {},
   "source": [
    "### 03) WAP to create Circle class with area and perimeter function to find area and perimeter of circle."
   ]
  },
  {
   "cell_type": "code",
   "execution_count": 5,
   "metadata": {},
   "outputs": [
    {
     "name": "stdin",
     "output_type": "stream",
     "text": [
      "Enter the radius of the circle:  10\n"
     ]
    },
    {
     "name": "stdout",
     "output_type": "stream",
     "text": [
      "Area of the circle: 314.16\n",
      "Perimeter of the circle: 62.83\n"
     ]
    }
   ],
   "source": [
    "import math\n",
    "\n",
    "class Circle:\n",
    "    def __init__(self, radius):\n",
    "        self.radius = radius\n",
    "    def area(self):\n",
    "        return math.pi * self.radius ** 2\n",
    "    def perimeter(self):\n",
    "        return 2 * math.pi * self.radius\n",
    "        \n",
    "r = float(input(\"Enter the radius of the circle: \"))\n",
    "circle = Circle(r)\n",
    "\n",
    "print(f\"Area of the circle: {circle.area():.2f}\")\n",
    "print(f\"Perimeter of the circle: {circle.perimeter():.2f}\")"
   ]
  },
  {
   "cell_type": "markdown",
   "metadata": {},
   "source": [
    "### 04) Create a class for employees that includes attributes such as name, age, salary, and methods to update and display employee information."
   ]
  },
  {
   "cell_type": "code",
   "execution_count": 7,
   "metadata": {},
   "outputs": [
    {
     "name": "stdout",
     "output_type": "stream",
     "text": [
      "\n",
      "Employee Details:\n",
      "Name: Zeel\n",
      "Age: 19\n",
      "Salary: 50000.00\n",
      "\n",
      "Employee details updated successfully!\n",
      "\n",
      "Employee Details:\n",
      "Name: Zeel Thakkar\n",
      "Age: 19\n",
      "Salary: 55000.00\n"
     ]
    }
   ],
   "source": [
    "class Employee:\n",
    "    def __init__(self, name, age, salary):\n",
    "        self.name = name\n",
    "        self.age = age\n",
    "        self.salary = salary\n",
    "    def update_employee(self, name=None, age=None, salary=None):\n",
    "        if name:\n",
    "            self.name = name\n",
    "        if age:\n",
    "            self.age = age\n",
    "        if salary:\n",
    "            self.salary = salary\n",
    "        print(\"\\nEmployee details updated successfully!\")\n",
    "        \n",
    "    def display_employee(self):\n",
    "        print(\"\\nEmployee Details:\")\n",
    "        print(f\"Name: {self.name}\")\n",
    "        print(f\"Age: {self.age}\")\n",
    "        print(f\"Salary: {self.salary:.2f}\")\n",
    "        \n",
    "emp = Employee(\"Zeel\", 19, 50000)\n",
    "emp.display_employee()\n",
    "\n",
    "emp.update_employee(name=\"Zeel Thakkar\", salary=55000)\n",
    "emp.display_employee()"
   ]
  },
  {
   "cell_type": "markdown",
   "metadata": {},
   "source": [
    "### 05) Create a bank account class with methods to deposit, withdraw, and check balance."
   ]
  },
  {
   "cell_type": "code",
   "execution_count": 9,
   "metadata": {},
   "outputs": [
    {
     "name": "stdout",
     "output_type": "stream",
     "text": [
      "\n",
      "Current Balance: 10000.00\n",
      "\n",
      "Deposited 500.00 successfully!\n",
      "\n",
      "Current Balance: 10500.00\n",
      "\n",
      "Withdrawn 300.00 successfully!\n",
      "\n",
      "Current Balance: 10200.00\n"
     ]
    }
   ],
   "source": [
    "class BankAccount:\n",
    "    def __init__(self, account_number, account_holder, balance=0.0):\n",
    "        self.account_number = account_number\n",
    "        self.account_holder = account_holder\n",
    "        self.balance = balance\n",
    "    def deposit(self, amount):\n",
    "        if amount > 0:\n",
    "            self.balance += amount\n",
    "            print(f\"\\nDeposited {amount:.2f} successfully!\")\n",
    "        else:\n",
    "            print(\"\\nInvalid deposit amount. Please enter a positive value.\")\n",
    "    def withdraw(self, amount):\n",
    "        if 0 < amount <= self.balance:\n",
    "            self.balance -= amount\n",
    "            print(f\"\\nWithdrawn {amount:.2f} successfully!\")\n",
    "        elif amount > self.balance:\n",
    "            print(\"\\nInsufficient balance!\")\n",
    "        else:\n",
    "            print(\"\\nInvalid withdrawal amount. Please enter a positive value.\")\n",
    "    def check_balance(self):\n",
    "        print(f\"\\nCurrent Balance: {self.balance:.2f}\")\n",
    "        \n",
    "account = BankAccount(\"123456789\", \"zeel Thakkar\", 10000)\n",
    "\n",
    "account.check_balance()\n",
    "account.deposit(500)\n",
    "account.check_balance()\n",
    "account.withdraw(300)\n",
    "account.check_balance()"
   ]
  },
  {
   "cell_type": "markdown",
   "metadata": {},
   "source": [
    "### 06) Create a class for managing inventory that includes attributes such as item name, price, quantity, and methods to add, remove, and update items."
   ]
  },
  {
   "cell_type": "code",
   "execution_count": 11,
   "metadata": {},
   "outputs": [
    {
     "name": "stdout",
     "output_type": "stream",
     "text": [
      "item added 1\n",
      "item updated 4\n",
      "item removed \n"
     ]
    }
   ],
   "source": [
    "class inv:\n",
    "    def add(self,name, price, qnt):\n",
    "        self.name = name\n",
    "        self.price = price\n",
    "        self.qnt = qnt\n",
    "        print(f'item added {self.name}')\n",
    "    def update(self,name, price, qnt):\n",
    "        self.name = name\n",
    "        self.price = price\n",
    "        self.qnt = qnt\n",
    "        print(f'item updated {self.name}')\n",
    "    def remove(self):\n",
    "        self.name = \"\"\n",
    "        self.price = \"\"\n",
    "        self.qnt = \"\"\n",
    "        print(f'item removed {self.name}')\n",
    "        \n",
    "c1 = inv()\n",
    "c1.add(1,2,3)\n",
    "c1.update(4,5,6)\n",
    "c1.remove()"
   ]
  },
  {
   "cell_type": "markdown",
   "metadata": {},
   "source": [
    "### 07) Create a Class with instance attributes of your choice."
   ]
  },
  {
   "cell_type": "code",
   "execution_count": 13,
   "metadata": {},
   "outputs": [
    {
     "name": "stdout",
     "output_type": "stream",
     "text": [
      "Coco singh\n",
      "barkkk\n"
     ]
    }
   ],
   "source": [
    "class MaroClass:\n",
    "    def __init__ (self,name):\n",
    "        self.name = name\n",
    "m1 = MaroClass(\"Coco singh\")\n",
    "m2 = MaroClass(\"barkkk\")\n",
    "\n",
    "print(m1.name)\n",
    "print(m2.name)"
   ]
  },
  {
   "cell_type": "markdown",
   "metadata": {},
   "source": [
    "### 08) Create one class student_kit\n",
    "#### Within the student_kit class create one class attribute principal name ( Mr ABC )\n",
    "#### Create one attendance method and take input as number of days.\n",
    "#### While creating student take input their name .\n",
    "#### Create one certificate for each student by taking input of number of days present in class."
   ]
  },
  {
   "cell_type": "code",
   "execution_count": null,
   "metadata": {},
   "outputs": [],
   "source": [
    "class student_kit:\n",
    "prn = \"Mr. Pithadiya\"\n",
    "def __init__(self, stn):\n",
    "self.stn = stn\n",
    "def atndnc(self, prdays):\n",
    "self.prdays = prdays\n",
    "def cirty(self):\n",
    "print(f'tamaro badak {self.stn} nishade {self.prdays} divas\n",
    "hajar rahel chhe')\n",
    "s1 = student_kit(\"yo\")\n",
    "s1.atndnc(123)\n",
    "s1.cirty()"
   ]
  },
  {
   "cell_type": "markdown",
   "metadata": {},
   "source": [
    "### 09) Define Time class with hour and minute as data member. Also define addition method to add two time objects."
   ]
  },
  {
   "cell_type": "code",
   "execution_count": null,
   "metadata": {},
   "outputs": [],
   "source": []
  }
 ],
 "metadata": {
  "kernelspec": {
   "display_name": "Python 3 (ipykernel)",
   "language": "python",
   "name": "python3"
  },
  "language_info": {
   "codemirror_mode": {
    "name": "ipython",
    "version": 3
   },
   "file_extension": ".py",
   "mimetype": "text/x-python",
   "name": "python",
   "nbconvert_exporter": "python",
   "pygments_lexer": "ipython3",
   "version": "3.12.7"
  }
 },
 "nbformat": 4,
 "nbformat_minor": 4
}
